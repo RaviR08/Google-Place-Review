{
  "nbformat": 4,
  "nbformat_minor": 0,
  "metadata": {
    "colab": {
      "name": "gpscrapping.ipynb",
      "provenance": [],
      "authorship_tag": "ABX9TyNvQldyK808Pt15S6c0Wg0T"
    },
    "kernelspec": {
      "name": "python3",
      "display_name": "Python 3"
    }
  },
  "cells": [
    {
      "cell_type": "code",
      "metadata": {
        "id": "cFN7fS_XQAAs",
        "colab_type": "code",
        "colab": {}
      },
      "source": [
        "pip install selenium"
      ],
      "execution_count": null,
      "outputs": []
    },
    {
      "cell_type": "code",
      "metadata": {
        "id": "cZlFu0_OQEOe",
        "colab_type": "code",
        "colab": {}
      },
      "source": [
        "pip install webdriver_manager"
      ],
      "execution_count": null,
      "outputs": []
    },
    {
      "cell_type": "code",
      "metadata": {
        "id": "rZEv-BjM66LL",
        "colab_type": "code",
        "colab": {}
      },
      "source": [
        "from selenium import webdriver\n",
        "from selenium.webdriver.support.ui import WebDriverWait\n",
        "from selenium.webdriver.chrome.options import Options\n",
        "from webdriver_manager.chrome import ChromeDriverManager\n",
        "from selenium.webdriver.support import expected_conditions as EC\n",
        "from selenium.webdriver.common.by import By\n",
        "from bs4 import BeautifulSoup\n",
        "import time\n",
        "import csv\n",
        "\n",
        "def get_reviews (rlist):\n",
        "    for r in rlist:\n",
        "        d_r = r.find ('button',class_='section-review-action-menu') ['data-review-1d']\n",
        "        username = r.find ('div', class_ ='section-review-title').find(' span ').text\n",
        "        try:\n",
        "            review_text = r.find ('span', class_ ='section-review-text').text\n",
        "            print(review_text)\n",
        "        except Exception:\n",
        "            review_text = None\n",
        "        rating = r.find ('span', class_ ='section-review-stars')['aria-label']\n",
        "        rel_date = r.find ('span', class_ = 'section-review-publish-date').text\n",
        "\n",
        "        with open ('Reviews.csv', 'a', newline = '') as file:\n",
        "            writer=csv.writer(file)\n",
        "            writer.writerow([username, review_text, rating, rel_date])\n",
        "\n",
        "options = Options()\n",
        "options.add_argument(\"--lang=en\")\n",
        "driver=webdriver.Chrome(ChromeDriverManager().install(), chrome_options =options)\n",
        "url = \"https://www.google.com/maps/place/Taj+Mahal/@25.1417457,75.3268005,7z/data=!4m8!1m2!2m1!1staj+mahal!3m4!1s0x39747121d702ff6d:0xdd2ae4803f767dde!8m2!3d27.1751448!4d78.0421422?hl=en\"\n",
        "driver.get(url)\n",
        "wait=WebDriverWait(driver, 10)\n",
        "menu_bt = wait.until(EC.element_to_be_clickable((By.XPATH,'//button(@data-value=\\'Sort\\']')))\n",
        "menu_bt.click ()\n",
        "with open ('Reviews.csv', 'w', newline='') as file:\n",
        "    writer=csv.writer(file)\n",
        "    writer.writerow(['UserName','Reviews','Rating','Date'])\n",
        "\n",
        "for i in range (0,10):\n",
        "    scrollable_div= driver.find_element_by_css_selector('div.section-layout.section-scrollbox.scrollable-y.scrollable-show')\n",
        "    driver.execute_script('arguments[0].scrollTop=arguments[0].scrollHeight',scrollable_div)\n",
        "    time.sleep(5)\n",
        "response=BeautifulSoup(driver.page_source,'html.parser')\n",
        "rlist = response.find_all ('div', class_ ='section-review-content')\n",
        "get_reviews(rlist)\n"
      ],
      "execution_count": null,
      "outputs": []
    }
  ]
}